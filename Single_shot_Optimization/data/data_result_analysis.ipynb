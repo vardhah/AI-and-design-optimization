{
 "cells": [
  {
   "cell_type": "code",
   "execution_count": 16,
   "id": "640aaea5",
   "metadata": {},
   "outputs": [],
   "source": [
    "import numpy as np\n",
    "import matplotlib.pyplot as plt\n",
    "import pandas as pd\n",
    "from operator import add\n",
    "#import seaborn as sns\n",
    "import glob as glob"
   ]
  },
  {
   "cell_type": "code",
   "execution_count": 22,
   "id": "5b70edaf",
   "metadata": {},
   "outputs": [
    {
     "name": "stdout",
     "output_type": "stream",
     "text": [
      "file is: bo_LCB2\n",
      "file is: bo_LCB4\n",
      "file is: bo_LCB1\n",
      "file is: bo_LCB3\n",
      "file is: bo_LCB6\n",
      "(5, 50)\n",
      "file is: bo_EI2\n",
      "file is: bo_EI4\n",
      "file is: bo_EI1\n",
      "file is: bo_EI3\n",
      "file is: bo_EI6\n",
      "(5, 50)\n",
      "data lcb shape: (5, 50) data ei shape: (5, 50)\n"
     ]
    }
   ],
   "source": [
    "n=50\n",
    "def get_bo_data(n=50,string=\"bo_L*\"): \n",
    " flag=0\n",
    " for file in glob.glob(string):\n",
    "    print('file is:',file)\n",
    "    placeholder= pd.read_csv(file, delimiter=\"\\t\", dtype=np.float32)\n",
    "    placeholder['min']=placeholder.Y.expanding(1).min()\n",
    "    placeholder=placeholder.head(n)\n",
    "    _place_= placeholder['min']\n",
    "    _place_= np.array(_place_)\n",
    "    minY=_place_.min();\n",
    "    #print(minY)\n",
    "    if placeholder['min'].shape[0]<=n:\n",
    "        shorten=n-placeholder['min'].shape[0]\n",
    "        _place_= np.pad(_place_,(0,shorten),'constant', constant_values=(minY))       \n",
    "    if flag==0:\n",
    "       datalcb=_place_.reshape(1,-1);flag=1;\n",
    "    else: \n",
    "       datalcb=np.concatenate((datalcb, _place_.reshape(1,-1)),axis=0)  \n",
    " print(datalcb.shape)\n",
    " return datalcb\n",
    "data_lcb= get_bo_data(n,\"bo_L*\")\n",
    "data_ei= get_bo_data(n,\"bo_E*\")\n",
    "print('data lcb shape:',data_lcb.shape,'data ei shape:',data_ei.shape)"
   ]
  },
  {
   "cell_type": "code",
   "execution_count": 23,
   "id": "34da8cc4",
   "metadata": {},
   "outputs": [
    {
     "name": "stdout",
     "output_type": "stream",
     "text": [
      "file is: pymoo_GA1.csv\n",
      "file is: pymoo_GA4.csv\n",
      "file is: pymoo_GA3.csv\n",
      "file is: pymoo_GA2.csv\n",
      "(4, 50)\n",
      "file is: pymoo_NM1.csv\n",
      "file is: pymoo_NM2.csv\n",
      "file is: pymoo_NM3.csv\n",
      "(3, 50)\n",
      "file is: doe_lhc1.csv\n",
      "file is: doe_lhc5.csv\n",
      "file is: doe_lhc4.csv\n",
      "file is: doe_lhc2.csv\n",
      "file is: doe_lhc3.csv\n",
      "(5, 50)\n",
      "file is: doe_vmc2.csv\n",
      "file is: doe_vmc4.csv\n",
      "file is: doe_vmc5.csv\n",
      "file is: doe_vmc1.csv\n",
      "file is: doe_vmc3.csv\n",
      "(5, 50)\n",
      "data lcb shape: (5, 50) data ei shape: (5, 50)\n",
      "data lhc shape: (5, 50) data vmc shape: (5, 50)\n"
     ]
    }
   ],
   "source": [
    "def get_pymoo_data(n=50,string=\"pymoo_G*\"): \n",
    " flag=0\n",
    " for file in glob.glob(string):\n",
    "    print('file is:',file)\n",
    "    placeholder= pd.read_csv(file, delimiter=\",\",names=list('abntY'), header=None)\n",
    "    #print(placeholder)\n",
    "    placeholder['min']=placeholder.Y.expanding(1).min()\n",
    "    placeholder=placeholder.head(n)\n",
    "    _place_= placeholder['min']\n",
    "    _place_= np.array(_place_)\n",
    "    minY=_place_.min();\n",
    "    #print(minY)\n",
    "    if placeholder['min'].shape[0]<=n:\n",
    "        shorten=n-placeholder['min'].shape[0]\n",
    "        _place_= np.pad(_place_,(0,shorten),'constant', constant_values=(minY))       \n",
    "    if flag==0:\n",
    "       datalcb=_place_.reshape(1,-1);flag=1;\n",
    "    else: \n",
    "       datalcb=np.concatenate((datalcb, _place_.reshape(1,-1)),axis=0)  \n",
    " print(datalcb.shape)\n",
    " return datalcb\n",
    "data_ga= get_pymoo_data(n,\"pymoo_G*\")\n",
    "data_nm= get_pymoo_data(n,\"pymoo_N*\")\n",
    "data_lhc= get_pymoo_data(n,\"doe_lhc*\")\n",
    "data_vmc= get_pymoo_data(n,\"doe_vmc*\")\n",
    "print('data lcb shape:',data_lcb.shape,'data ei shape:',data_ei.shape)\n",
    "print('data lhc shape:',data_lhc.shape,'data vmc shape:',data_vmc.shape)"
   ]
  },
  {
   "cell_type": "code",
   "execution_count": 24,
   "id": "e30fa891",
   "metadata": {},
   "outputs": [
    {
     "name": "stdout",
     "output_type": "stream",
     "text": [
      "data lcb shape: (50,)\n",
      "data ei shape: (50,)\n",
      "data ga shape: (50,)\n",
      "data nm shape: (50,)\n",
      "data lhc shape: (50,)\n",
      "data vmc shape: (50,)\n",
      "[[ 6.53056097  6.53056097  5.74925613  5.74925613  5.74925613  5.74925613\n",
      "   5.74925613  5.74925613  5.74925613  5.74925613  5.74925613  5.74925613\n",
      "   5.58844662  5.58844662  5.58844662  5.58844662  5.58844662  5.58844662\n",
      "   5.58844662  5.58844662  5.58844662  4.91879559  4.91879559  4.91879559\n",
      "   4.91879559  4.91879559  4.91879559  4.91879559  4.91879559  4.91879559\n",
      "   4.91879559  4.91879559  4.91879559  4.91879559  4.91879559  4.91879559\n",
      "   4.91879559  4.91879559  4.91879559  4.91879559  4.91879559  4.91879559\n",
      "   4.91879559  4.91879559  4.91879559  4.91879559  4.91879559  4.91879559\n",
      "   4.91879559  4.91879559]\n",
      " [19.09836578  6.22871065  6.22871065  6.22871065  6.22871065  6.22871065\n",
      "   6.22871065  6.22871065  6.22871065  4.91879559  4.91879559  4.91879559\n",
      "   4.91879559  4.91879559  4.91879559  4.91879559  4.91879559  4.91879559\n",
      "   4.91879559  4.91879559  4.91879559  4.91879559  4.91879559  4.91879559\n",
      "   4.91879559  4.91879559  4.91879559  4.91879559  4.91879559  4.91879559\n",
      "   4.91879559  4.91879559  4.91879559  4.91879559  4.91879559  4.91879559\n",
      "   4.91879559  4.91879559  4.91879559  4.91879559  4.91879559  4.91879559\n",
      "   4.91879559  4.91879559  4.91879559  4.91879559  4.91879559  4.91879559\n",
      "   4.91879559  4.91879559]\n",
      " [ 8.26553154  8.26553154  7.28222179  6.1342268   6.1342268   5.79243517\n",
      "   5.79243517  5.79243517  5.79243517  5.79243517  5.40883398  5.40883398\n",
      "   5.40883398  5.40883398  5.40883398  5.40883398  5.40883398  5.40883398\n",
      "   5.40883398  5.40883398  5.40883398  5.40883398  5.40883398  5.17712545\n",
      "   5.17712545  5.17712545  5.17712545  5.17712545  5.17712545  5.17712545\n",
      "   4.92260647  4.92260647  4.92260647  4.92260647  4.91879559  4.91879559\n",
      "   4.91879559  4.91879559  4.91879559  4.91879559  4.91879559  4.91879559\n",
      "   4.91879559  4.91879559  4.91879559  4.91879559  4.91879559  4.91879559\n",
      "   4.91879559  4.91879559]\n",
      " [ 7.74440289  6.49362278  6.49362278  6.49362278  6.49362278  6.49362278\n",
      "   6.49362278  6.46924639  4.91879559  4.91879559  4.91879559  4.91879559\n",
      "   4.91879559  4.91879559  4.91879559  4.91879559  4.91879559  4.91879559\n",
      "   4.91879559  4.91879559  4.91879559  4.91879559  4.91879559  4.91879559\n",
      "   4.91879559  4.91879559  4.91879559  4.91879559  4.91879559  4.91879559\n",
      "   4.91879559  4.91879559  4.91879559  4.91879559  4.91879559  4.91879559\n",
      "   4.91879559  4.91879559  4.91879559  4.91879559  4.91879559  4.91879559\n",
      "   4.91879559  4.91879559  4.91879559  4.91879559  4.91879559  4.91879559\n",
      "   4.91879559  4.91879559]\n",
      " [21.14429665  8.4974966   7.29630423  7.29630423  7.29630423  7.29630423\n",
      "   6.62300634  6.62300634  6.62300634  6.62300634  6.62300634  5.93713665\n",
      "   5.93713665  5.93713665  5.93713665  5.93713665  5.93713665  5.47157335\n",
      "   5.47157335  5.47157335  5.47157335  5.10385561  5.10385561  5.10385561\n",
      "   5.10385561  5.10385561  5.10385561  5.10385561  5.10385561  5.10385561\n",
      "   5.10385561  4.92260647  4.92260647  4.92260647  4.92260647  4.92260647\n",
      "   4.92260647  4.92260647  4.92260647  4.92260647  4.92260647  4.92260647\n",
      "   4.92260647  4.92260647  4.92260647  4.92260647  4.92260647  4.92260647\n",
      "   4.92260647  4.92260647]]\n"
     ]
    }
   ],
   "source": [
    "data_lcb_m=np.mean(data_lcb, axis=0); print('data lcb shape:',data_lcb_m.shape)\n",
    "data_ei_m=np.mean(data_ei, axis=0); print('data ei shape:',data_ei_m.shape)\n",
    "data_ga_m=np.mean(data_ga, axis=0); print('data ga shape:',data_ga_m.shape)\n",
    "data_nm_m=np.mean(data_nm, axis=0); print('data nm shape:',data_nm_m.shape)\n",
    "data_lhc_m=np.mean(data_lhc, axis=0); print('data lhc shape:',data_lhc_m.shape)\n",
    "data_vmc_m=np.mean(data_vmc, axis=0); print('data vmc shape:',data_vmc_m.shape)\n",
    "\n",
    "print(data_lcb)"
   ]
  },
  {
   "cell_type": "code",
   "execution_count": 25,
   "id": "77f2733f",
   "metadata": {},
   "outputs": [
    {
     "data": {
      "text/plain": [
       "array([ 1,  2,  3,  4,  5,  6,  7,  8,  9, 10, 11, 12, 13, 14, 15, 16, 17,\n",
       "       18, 19, 20, 21, 22, 23, 24, 25, 26, 27, 28, 29, 30, 31, 32, 33, 34,\n",
       "       35, 36, 37, 38, 39, 40, 41, 42, 43, 44, 45, 46, 47, 48, 49, 50])"
      ]
     },
     "execution_count": 25,
     "metadata": {},
     "output_type": "execute_result"
    }
   ],
   "source": [
    "index=np.arange(1,(n+1),dtype=int)\n",
    "index"
   ]
  },
  {
   "cell_type": "code",
   "execution_count": 26,
   "id": "adeafb27",
   "metadata": {},
   "outputs": [
    {
     "data": {
      "image/png": "[encoded data removed]",
      "text/plain": [
       "<Figure size 864x576 with 1 Axes>"
      ]
     },
     "metadata": {
      "needs_background": "light"
     },
     "output_type": "display_data"
    }
   ],
   "source": [
    "fig,ax=plt.subplots(figsize=(12,8))\n",
    "\n",
    "plt.plot(index,data_lcb_m,c='black',label='BO_LCB',linewidth=2.0)\n",
    "plt.plot(index,data_ei_m,c='yellowgreen',label='BO_EI',linewidth=2.0)\n",
    "plt.plot(index,data_ga_m,c='red',label='GA',linewidth=2.0)\n",
    "plt.plot(index,data_nm_m,c='cyan',label='NM',linewidth=2.0)\n",
    "plt.plot(index,data_lhc_m,c='green',label='LHC',linewidth=2.0)\n",
    "plt.plot(index,data_vmc_m,c='blue',label='VMC',linewidth=2.0)\n",
    "\n",
    "plt.legend(loc='best',fontsize=15)\n",
    "#plt.legend(loc=\"lower center\", ncol=4,fontsize=15)\n",
    "\n",
    "ax.tick_params(axis='both', which='major', labelsize=18)\n",
    "plt.title('Most optimized design vs Number of evaluated designs  ',fontsize=16, weight='bold')\n",
    "#plt.hlines(max_uni,0,110,linestyles= 'dashed')\n",
    "#plt.hlines(max_uni,6,25,linestyles= 'dashed')\n",
    "#plt.vlines(6,0,max_uni,linestyles= 'dashed')\n",
    "#plt.vlines(5.5,0,max_lhc,linestyles= 'dashed')\n",
    "#plt.xticks(np.arange(0, 25+1, 1.0))\n",
    "#plt.xlim(0,26)\n",
    "#plt.ylim(0,85)\n",
    "#plt.xticks(np.arange(0, 94, 1))\n",
    "#plt.yticks(np.arange(0,10.0,0.1))\n",
    "#plt.xlim(0,26)\n",
    "#plt.ylim(5,8)\n",
    "plt.xlabel('Number of evaluated designs',fontsize=15,weight='bold')\n",
    "plt.ylabel(' Drag Force',fontsize=20,weight='bold')\n",
    "plt.grid()\n",
    "plt.show()\n",
    "#fig.savefig('../fig/comparison_result1.png')"
   ]
  },
  {
   "cell_type": "code",
   "execution_count": 24,
   "id": "4075cde4",
   "metadata": {},
   "outputs": [
    {
     "data": {
      "text/plain": [
       "'\\n#define values\\nvalues = [1100, 2200]\\n\\n#drop rows that contain any value in the list\\nboei_data = boei_data[boei_data.Y.isin(values) == False]\\nbolcb_data = bolcb_data[bolcb_data.Y.isin(values) == False]\\n\\nga_data = ga_data[ga_data.Y.isin(values) == False]\\nlhcminimax_data = lhcminimax_data[lhcminimax_data.Y.isin(values) == False]\\n\\nvmc_data = vmc_data[vmc_data.Y.isin(values) == False]\\nnm_data = nm_data[nm_data.Y.isin(values) == False]\\n'"
      ]
     },
     "execution_count": 24,
     "metadata": {},
     "output_type": "execute_result"
    }
   ],
   "source": [
    "\"\"\"\n",
    "#define values\n",
    "values = [1100, 2200]\n",
    "\n",
    "#drop rows that contain any value in the list\n",
    "boei_data = boei_data[boei_data.Y.isin(values) == False]\n",
    "bolcb_data = bolcb_data[bolcb_data.Y.isin(values) == False]\n",
    "\n",
    "ga_data = ga_data[ga_data.Y.isin(values) == False]\n",
    "lhcminimax_data = lhcminimax_data[lhcminimax_data.Y.isin(values) == False]\n",
    "\n",
    "vmc_data = vmc_data[vmc_data.Y.isin(values) == False]\n",
    "nm_data = nm_data[nm_data.Y.isin(values) == False]\n",
    "\"\"\""
   ]
  },
  {
   "cell_type": "code",
   "execution_count": 21,
   "id": "6a0c1efd",
   "metadata": {},
   "outputs": [
    {
     "data": {
      "text/plain": [
       "a        545.656791\n",
       "b        234.818213\n",
       "c        549.524996\n",
       "d        191.000000\n",
       "n          1.506551\n",
       "t         14.462271\n",
       "V      22156.138583\n",
       "Y          5.379029\n",
       "min        5.379029\n",
       "Name: 93, dtype: float64"
      ]
     },
     "execution_count": 21,
     "metadata": {},
     "output_type": "execute_result"
    }
   ],
   "source": [
    "lhcminimax_data.loc[lhcminimax_data['Y'].idxmin()]"
   ]
  },
  {
   "cell_type": "code",
   "execution_count": null,
   "id": "b199c094",
   "metadata": {},
   "outputs": [],
   "source": []
  }
 ],
 "metadata": {
  "kernelspec": {
   "display_name": "Python 3 (ipykernel)",
   "language": "python",
   "name": "python3"
  },
  "language_info": {
   "codemirror_mode": {
    "name": "ipython",
    "version": 3
   },
   "file_extension": ".py",
   "mimetype": "text/x-python",
   "name": "python",
   "nbconvert_exporter": "python",
   "pygments_lexer": "ipython3",
   "version": "3.9.5"
  }
 },
 "nbformat": 4,
 "nbformat_minor": 5
}
