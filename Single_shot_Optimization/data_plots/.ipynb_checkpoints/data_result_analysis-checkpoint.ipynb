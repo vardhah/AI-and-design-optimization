{
 "cells": [
  {
   "cell_type": "code",
   "execution_count": 1,
   "id": "d7699d1e",
   "metadata": {},
   "outputs": [],
   "source": [
    "import numpy as np\n",
    "import matplotlib.pyplot as plt\n",
    "import pandas as pd\n",
    "from operator import add\n",
    "import seaborn as sns"
   ]
  },
  {
   "cell_type": "code",
   "execution_count": 2,
   "id": "98c1c5f7",
   "metadata": {},
   "outputs": [],
   "source": [
    "boei_data= pd.read_csv(\"./bo_ei\", delimiter=\"\\t\", dtype=np.float32)\n",
    "bolcb_data= pd.read_csv(\"./bo_lcb\", delimiter=\"\\t\", dtype=np.float32)\n",
    "\n",
    "ga_data= pd.read_csv(\"./ga.csv\", delimiter=\",\",names=list('abntY'), header=None)\n",
    "lhcminimax_data= pd.read_csv(\"./lhc_minimax.csv\", delimiter=\",\",names=list('abcdntVY'), header=None)\n",
    "\n",
    "vmc_data= pd.read_csv(\"./vmc.csv\", delimiter=\",\",names=list('abcdntVY'), header=None)\n",
    "nm_data= pd.read_csv(\"./nm.csv\", delimiter=\",\",names=list('abcdntVY'), header=None)"
   ]
  },
  {
   "cell_type": "code",
   "execution_count": 3,
   "id": "97460e6d",
   "metadata": {},
   "outputs": [
    {
     "name": "stdout",
     "output_type": "stream",
     "text": [
      "(105, 6)\n",
      "(110, 6)\n",
      "(100, 5)\n",
      "(100, 8)\n",
      "(100, 8)\n",
      "(100, 8)\n"
     ]
    }
   ],
   "source": [
    "print(boei_data.shape)\n",
    "print(bolcb_data.shape)\n",
    "print(ga_data.shape)\n",
    "print(lhcminimax_data.shape)\n",
    "print(vmc_data.shape)\n",
    "print(nm_data.shape)"
   ]
  },
  {
   "cell_type": "code",
   "execution_count": 4,
   "id": "94a91fe6",
   "metadata": {},
   "outputs": [
    {
     "data": {
      "text/html": [
       "<div>\n",
       "<style scoped>\n",
       "    .dataframe tbody tr th:only-of-type {\n",
       "        vertical-align: middle;\n",
       "    }\n",
       "\n",
       "    .dataframe tbody tr th {\n",
       "        vertical-align: top;\n",
       "    }\n",
       "\n",
       "    .dataframe thead th {\n",
       "        text-align: right;\n",
       "    }\n",
       "</style>\n",
       "<table border=\"1\" class=\"dataframe\">\n",
       "  <thead>\n",
       "    <tr style=\"text-align: right;\">\n",
       "      <th></th>\n",
       "      <th>a</th>\n",
       "      <th>b</th>\n",
       "      <th>c</th>\n",
       "      <th>d</th>\n",
       "      <th>n</th>\n",
       "      <th>t</th>\n",
       "      <th>V</th>\n",
       "      <th>Y</th>\n",
       "    </tr>\n",
       "  </thead>\n",
       "  <tbody>\n",
       "    <tr>\n",
       "      <th>0</th>\n",
       "      <td>489.691925</td>\n",
       "      <td>318.089569</td>\n",
       "      <td>522.218506</td>\n",
       "      <td>191.0</td>\n",
       "      <td>3.793535</td>\n",
       "      <td>9.062001</td>\n",
       "      <td>23205.744141</td>\n",
       "      <td>6.589593</td>\n",
       "    </tr>\n",
       "    <tr>\n",
       "      <th>1</th>\n",
       "      <td>193.960205</td>\n",
       "      <td>927.513306</td>\n",
       "      <td>208.526505</td>\n",
       "      <td>191.0</td>\n",
       "      <td>1.555713</td>\n",
       "      <td>32.195675</td>\n",
       "      <td>32320.628906</td>\n",
       "      <td>7.617358</td>\n",
       "    </tr>\n",
       "    <tr>\n",
       "      <th>2</th>\n",
       "      <td>401.806519</td>\n",
       "      <td>564.309082</td>\n",
       "      <td>363.884369</td>\n",
       "      <td>191.0</td>\n",
       "      <td>1.378196</td>\n",
       "      <td>1.897222</td>\n",
       "      <td>27199.865234</td>\n",
       "      <td>6.122611</td>\n",
       "    </tr>\n",
       "    <tr>\n",
       "      <th>3</th>\n",
       "      <td>99.996582</td>\n",
       "      <td>929.968323</td>\n",
       "      <td>300.035065</td>\n",
       "      <td>191.0</td>\n",
       "      <td>4.446758</td>\n",
       "      <td>36.910988</td>\n",
       "      <td>31644.859375</td>\n",
       "      <td>8.674968</td>\n",
       "    </tr>\n",
       "    <tr>\n",
       "      <th>4</th>\n",
       "      <td>464.739288</td>\n",
       "      <td>613.980530</td>\n",
       "      <td>251.280151</td>\n",
       "      <td>191.0</td>\n",
       "      <td>1.035198</td>\n",
       "      <td>38.665085</td>\n",
       "      <td>28601.339844</td>\n",
       "      <td>6.585537</td>\n",
       "    </tr>\n",
       "    <tr>\n",
       "      <th>...</th>\n",
       "      <td>...</td>\n",
       "      <td>...</td>\n",
       "      <td>...</td>\n",
       "      <td>...</td>\n",
       "      <td>...</td>\n",
       "      <td>...</td>\n",
       "      <td>...</td>\n",
       "      <td>...</td>\n",
       "    </tr>\n",
       "    <tr>\n",
       "      <th>95</th>\n",
       "      <td>388.680908</td>\n",
       "      <td>496.102356</td>\n",
       "      <td>445.216766</td>\n",
       "      <td>191.0</td>\n",
       "      <td>1.000971</td>\n",
       "      <td>4.894265</td>\n",
       "      <td>25837.923828</td>\n",
       "      <td>5.754563</td>\n",
       "    </tr>\n",
       "    <tr>\n",
       "      <th>96</th>\n",
       "      <td>388.736206</td>\n",
       "      <td>496.136078</td>\n",
       "      <td>445.127716</td>\n",
       "      <td>191.0</td>\n",
       "      <td>1.000845</td>\n",
       "      <td>4.943776</td>\n",
       "      <td>25838.972656</td>\n",
       "      <td>5.764100</td>\n",
       "    </tr>\n",
       "    <tr>\n",
       "      <th>97</th>\n",
       "      <td>388.698975</td>\n",
       "      <td>496.078796</td>\n",
       "      <td>445.222229</td>\n",
       "      <td>191.0</td>\n",
       "      <td>1.000743</td>\n",
       "      <td>4.890343</td>\n",
       "      <td>25837.626953</td>\n",
       "      <td>5.753954</td>\n",
       "    </tr>\n",
       "    <tr>\n",
       "      <th>98</th>\n",
       "      <td>388.939819</td>\n",
       "      <td>496.025330</td>\n",
       "      <td>445.034851</td>\n",
       "      <td>191.0</td>\n",
       "      <td>1.000121</td>\n",
       "      <td>4.846262</td>\n",
       "      <td>25838.486328</td>\n",
       "      <td>5.773554</td>\n",
       "    </tr>\n",
       "    <tr>\n",
       "      <th>99</th>\n",
       "      <td>388.629176</td>\n",
       "      <td>496.121601</td>\n",
       "      <td>445.249223</td>\n",
       "      <td>191.0</td>\n",
       "      <td>1.001005</td>\n",
       "      <td>4.928218</td>\n",
       "      <td>25837.882864</td>\n",
       "      <td>5.765731</td>\n",
       "    </tr>\n",
       "  </tbody>\n",
       "</table>\n",
       "<p>100 rows × 8 columns</p>\n",
       "</div>"
      ],
      "text/plain": [
       "             a           b           c      d         n          t  \\\n",
       "0   489.691925  318.089569  522.218506  191.0  3.793535   9.062001   \n",
       "1   193.960205  927.513306  208.526505  191.0  1.555713  32.195675   \n",
       "2   401.806519  564.309082  363.884369  191.0  1.378196   1.897222   \n",
       "3    99.996582  929.968323  300.035065  191.0  4.446758  36.910988   \n",
       "4   464.739288  613.980530  251.280151  191.0  1.035198  38.665085   \n",
       "..         ...         ...         ...    ...       ...        ...   \n",
       "95  388.680908  496.102356  445.216766  191.0  1.000971   4.894265   \n",
       "96  388.736206  496.136078  445.127716  191.0  1.000845   4.943776   \n",
       "97  388.698975  496.078796  445.222229  191.0  1.000743   4.890343   \n",
       "98  388.939819  496.025330  445.034851  191.0  1.000121   4.846262   \n",
       "99  388.629176  496.121601  445.249223  191.0  1.001005   4.928218   \n",
       "\n",
       "               V         Y  \n",
       "0   23205.744141  6.589593  \n",
       "1   32320.628906  7.617358  \n",
       "2   27199.865234  6.122611  \n",
       "3   31644.859375  8.674968  \n",
       "4   28601.339844  6.585537  \n",
       "..           ...       ...  \n",
       "95  25837.923828  5.754563  \n",
       "96  25838.972656  5.764100  \n",
       "97  25837.626953  5.753954  \n",
       "98  25838.486328  5.773554  \n",
       "99  25837.882864  5.765731  \n",
       "\n",
       "[100 rows x 8 columns]"
      ]
     },
     "metadata": {},
     "output_type": "display_data"
    }
   ],
   "source": [
    "display(nm_data)"
   ]
  },
  {
   "cell_type": "code",
   "execution_count": 5,
   "id": "9ab33de6",
   "metadata": {},
   "outputs": [],
   "source": [
    "#define values\n",
    "values = [1100, 2200]\n",
    "\n",
    "#drop rows that contain any value in the list\n",
    "boei_data = boei_data[boei_data.Y.isin(values) == False]\n",
    "bolcb_data = bolcb_data[bolcb_data.Y.isin(values) == False]\n",
    "\n",
    "ga_data = ga_data[ga_data.Y.isin(values) == False]\n",
    "lhcminimax_data = lhcminimax_data[lhcminimax_data.Y.isin(values) == False]\n",
    "\n",
    "vmc_data = vmc_data[vmc_data.Y.isin(values) == False]\n",
    "nm_data = nm_data[nm_data.Y.isin(values) == False]"
   ]
  },
  {
   "cell_type": "code",
   "execution_count": 6,
   "id": "324ebd07",
   "metadata": {},
   "outputs": [
    {
     "name": "stdout",
     "output_type": "stream",
     "text": [
      "(100, 6)\n",
      "(106, 6)\n",
      "(100, 5)\n",
      "(95, 8)\n",
      "(94, 8)\n",
      "(99, 8)\n"
     ]
    }
   ],
   "source": [
    "print(boei_data.shape)\n",
    "print(bolcb_data.shape)\n",
    "print(ga_data.shape)\n",
    "print(lhcminimax_data.shape)\n",
    "print(vmc_data.shape)\n",
    "print(nm_data.shape)"
   ]
  },
  {
   "cell_type": "code",
   "execution_count": 7,
   "id": "4684ee77",
   "metadata": {},
   "outputs": [],
   "source": [
    "boei_data=boei_data.head(94)\n",
    "bolcb_data=bolcb_data.head(94)\n",
    "ga_data=ga_data.head(94)\n",
    "lhcminimax_data=lhcminimax_data.head(94)\n",
    "vmc_data=vmc_data.head(94)\n",
    "nm_data=nm_data.head(94)\n",
    "#boei_data.describe()"
   ]
  },
  {
   "cell_type": "code",
   "execution_count": 8,
   "id": "6f9463b3",
   "metadata": {},
   "outputs": [
    {
     "name": "stdout",
     "output_type": "stream",
     "text": [
      "(94, 6)\n",
      "(94, 6)\n",
      "(94, 5)\n",
      "(94, 8)\n",
      "(94, 8)\n",
      "(94, 8)\n"
     ]
    }
   ],
   "source": [
    "print(boei_data.shape)\n",
    "print(bolcb_data.shape)\n",
    "print(ga_data.shape)\n",
    "print(lhcminimax_data.shape)\n",
    "print(vmc_data.shape)\n",
    "print(nm_data.shape)"
   ]
  },
  {
   "cell_type": "code",
   "execution_count": 9,
   "id": "05619c4a",
   "metadata": {},
   "outputs": [],
   "source": [
    "boei_data['min']=boei_data.Y.expanding(1).min()\n",
    "bolcb_data['min']=bolcb_data.Y.expanding(1).min()\n",
    "\n",
    "ga_data['min'] = ga_data.Y.expanding(1).min()\n",
    "lhcminimax_data['min'] = lhcminimax_data.Y.expanding(1).min()\n",
    "\n",
    "\n",
    "vmc_data['min'] = vmc_data.Y.expanding(1).min()\n",
    "nm_data['min'] = nm_data.Y.expanding(1).min()"
   ]
  },
  {
   "cell_type": "code",
   "execution_count": 10,
   "id": "501f7d2d",
   "metadata": {},
   "outputs": [
    {
     "name": "stdout",
     "output_type": "stream",
     "text": [
      "             a           b           c      d         n          t  \\\n",
      "0   489.691925  318.089569  522.218506  191.0  3.793535   9.062001   \n",
      "1   193.960205  927.513306  208.526505  191.0  1.555713  32.195675   \n",
      "2   401.806519  564.309082  363.884369  191.0  1.378196   1.897222   \n",
      "3    99.996582  929.968323  300.035065  191.0  4.446758  36.910988   \n",
      "4   464.739288  613.980530  251.280151  191.0  1.035198  38.665085   \n",
      "..         ...         ...         ...    ...       ...        ...   \n",
      "90  388.456848  496.173126  445.370026  191.0  1.001613   4.966928   \n",
      "91  388.786255  496.032684  445.181061  191.0  1.000302   4.831145   \n",
      "92  388.557495  496.143829  445.298706  191.0  1.001209   4.947131   \n",
      "93  388.755371  496.101257  445.143372  191.0  1.000947   4.914437   \n",
      "94  388.771271  496.074493  445.154236  191.0  1.000316   4.926936   \n",
      "\n",
      "               V         Y       min  \n",
      "0   23205.744141  6.589593  6.589593  \n",
      "1   32320.628906  7.617358  6.589593  \n",
      "2   27199.865234  6.122611  6.122611  \n",
      "3   31644.859375  8.674968  6.122611  \n",
      "4   28601.339844  6.585537  6.122611  \n",
      "..           ...       ...       ...  \n",
      "90  25837.513672  5.771925  5.756557  \n",
      "91  25837.443359  5.764687  5.756557  \n",
      "92  25837.744141  5.759202  5.756557  \n",
      "93  25838.474609  5.758590  5.756557  \n",
      "94  25838.101562  5.771199  5.756557  \n",
      "\n",
      "[94 rows x 9 columns]\n"
     ]
    }
   ],
   "source": [
    "print(nm_data)"
   ]
  },
  {
   "cell_type": "code",
   "execution_count": 11,
   "id": "c62762f9",
   "metadata": {},
   "outputs": [
    {
     "data": {
      "text/plain": [
       "array([ 1,  2,  3,  4,  5,  6,  7,  8,  9, 10, 11, 12, 13, 14, 15, 16, 17,\n",
       "       18, 19, 20, 21, 22, 23, 24, 25, 26, 27, 28, 29, 30, 31, 32, 33, 34,\n",
       "       35, 36, 37, 38, 39, 40, 41, 42, 43, 44, 45, 46, 47, 48, 49, 50, 51,\n",
       "       52, 53, 54, 55, 56, 57, 58, 59, 60, 61, 62, 63, 64, 65, 66, 67, 68,\n",
       "       69, 70, 71, 72, 73, 74, 75, 76, 77, 78, 79, 80, 81, 82, 83, 84, 85,\n",
       "       86, 87, 88, 89, 90, 91, 92, 93, 94])"
      ]
     },
     "execution_count": 11,
     "metadata": {},
     "output_type": "execute_result"
    }
   ],
   "source": [
    "index=np.arange(1,(94+1),dtype=int)\n",
    "index"
   ]
  },
  {
   "cell_type": "code",
   "execution_count": 12,
   "id": "8a08bc64",
   "metadata": {
    "scrolled": true
   },
   "outputs": [
    {
     "data": {
      "image/png": "[encoded data removed]",
      "text/plain": [
       "<Figure size 864x576 with 1 Axes>"
      ]
     },
     "metadata": {
      "needs_background": "light"
     },
     "output_type": "display_data"
    }
   ],
   "source": [
    "fig,ax=plt.subplots(figsize=(12,8))\n",
    "\n",
    "plt.plot(index,boei_data['min'],c='black',label='BO_EI',linewidth=2.0)\n",
    "plt.plot(index,bolcb_data['min'],c='yellowgreen',label='BO_LCB',linewidth=2.0)\n",
    "plt.plot(index,ga_data['min'],c='red',label='GA',linewidth=2.0)\n",
    "plt.plot(index,lhcminimax_data['min'],c='cyan',label='maximin LHC',linewidth=2.0)\n",
    "plt.plot(index,vmc_data['min'],c='green',label='VMC',linewidth=2.0)\n",
    "plt.plot(index,nm_data['min'],c='blue',label='NM',linewidth=2.0)\n",
    "\n",
    "plt.legend(loc='best',fontsize=15)\n",
    "#plt.legend(loc=\"lower center\", ncol=4,fontsize=15)\n",
    "\n",
    "ax.tick_params(axis='both', which='major', labelsize=18)\n",
    "plt.title('Most optimized design vs Number of evaluated designs  ',fontsize=16, weight='bold')\n",
    "#plt.hlines(max_uni,0,110,linestyles= 'dashed')\n",
    "#plt.hlines(max_uni,6,25,linestyles= 'dashed')\n",
    "#plt.vlines(6,0,max_uni,linestyles= 'dashed')\n",
    "#plt.vlines(5.5,0,max_lhc,linestyles= 'dashed')\n",
    "#plt.xticks(np.arange(0, 25+1, 1.0))\n",
    "#plt.xlim(0,26)\n",
    "#plt.ylim(0,85)\n",
    "#plt.xticks(np.arange(0, 94, 1))\n",
    "#plt.yticks(np.arange(0,10.0,0.1))\n",
    "#plt.xlim(0,26)\n",
    "plt.ylim(5,8)\n",
    "plt.xlabel('Number of evaluated designs',fontsize=15,weight='bold')\n",
    "plt.ylabel(' Drag Force',fontsize=20,weight='bold')\n",
    "plt.grid()\n",
    "plt.show()\n",
    "#fig.savefig('../fig/comparison_result1.png')"
   ]
  },
  {
   "cell_type": "code",
   "execution_count": 16,
   "id": "ac36c37d",
   "metadata": {},
   "outputs": [
    {
     "data": {
      "text/plain": [
       "Iteration     68.000000\n",
       "Y              5.839646\n",
       "var_1        340.933838\n",
       "var_2        456.480713\n",
       "var_3         10.000000\n",
       "var_4          1.000000\n",
       "min            5.839646\n",
       "Name: 67, dtype: float64"
      ]
     },
     "execution_count": 16,
     "metadata": {},
     "output_type": "execute_result"
    }
   ],
   "source": [
    "boei_data.loc[boei_data['Y'].idxmin()]"
   ]
  },
  {
   "cell_type": "code",
   "execution_count": 17,
   "id": "7335ec9c",
   "metadata": {},
   "outputs": [
    {
     "data": {
      "text/plain": [
       "Iteration     89.000000\n",
       "Y              5.061983\n",
       "var_1        510.643768\n",
       "var_2        573.000000\n",
       "var_3         10.000000\n",
       "var_4          1.000000\n",
       "min            5.061983\n",
       "Name: 88, dtype: float64"
      ]
     },
     "execution_count": 17,
     "metadata": {},
     "output_type": "execute_result"
    }
   ],
   "source": [
    "bolcb_data.loc[bolcb_data['Y'].idxmin()]"
   ]
  },
  {
   "cell_type": "code",
   "execution_count": 18,
   "id": "8094c26a",
   "metadata": {},
   "outputs": [
    {
     "data": {
      "text/plain": [
       "a      342.309973\n",
       "b      493.687661\n",
       "n       11.332629\n",
       "t        3.908519\n",
       "Y        5.753489\n",
       "min      5.753489\n",
       "Name: 65, dtype: float64"
      ]
     },
     "execution_count": 18,
     "metadata": {},
     "output_type": "execute_result"
    }
   ],
   "source": [
    "ga_data.loc[ga_data['Y'].idxmin()]"
   ]
  },
  {
   "cell_type": "code",
   "execution_count": 19,
   "id": "5b51ee47",
   "metadata": {},
   "outputs": [
    {
     "data": {
      "text/plain": [
       "a        488.612905\n",
       "b        298.567531\n",
       "c        542.819565\n",
       "d        191.000000\n",
       "n          1.988721\n",
       "t          1.233577\n",
       "V      22513.358429\n",
       "Y          5.867869\n",
       "min        5.867869\n",
       "Name: 63, dtype: float64"
      ]
     },
     "execution_count": 19,
     "metadata": {},
     "output_type": "execute_result"
    }
   ],
   "source": [
    "vmc_data.loc[vmc_data['Y'].idxmin()]"
   ]
  },
  {
   "cell_type": "code",
   "execution_count": 20,
   "id": "9d0ee348",
   "metadata": {},
   "outputs": [
    {
     "data": {
      "text/plain": [
       "a        388.859406\n",
       "b        496.055878\n",
       "c        445.084717\n",
       "d        191.000000\n",
       "n          1.000000\n",
       "t          4.887743\n",
       "V      25838.433594\n",
       "Y          5.756557\n",
       "min        5.756557\n",
       "Name: 67, dtype: float64"
      ]
     },
     "execution_count": 20,
     "metadata": {},
     "output_type": "execute_result"
    }
   ],
   "source": [
    "nm_data.loc[nm_data['Y'].idxmin()]"
   ]
  },
  {
   "cell_type": "code",
   "execution_count": 21,
   "id": "62c4f8b9",
   "metadata": {},
   "outputs": [
    {
     "data": {
      "text/plain": [
       "a        545.656791\n",
       "b        234.818213\n",
       "c        549.524996\n",
       "d        191.000000\n",
       "n          1.506551\n",
       "t         14.462271\n",
       "V      22156.138583\n",
       "Y          5.379029\n",
       "min        5.379029\n",
       "Name: 93, dtype: float64"
      ]
     },
     "execution_count": 21,
     "metadata": {},
     "output_type": "execute_result"
    }
   ],
   "source": [
    "lhcminimax_data.loc[lhcminimax_data['Y'].idxmin()]"
   ]
  },
  {
   "cell_type": "code",
   "execution_count": null,
   "id": "bcc8d3d4",
   "metadata": {},
   "outputs": [],
   "source": []
  }
 ],
 "metadata": {
  "kernelspec": {
   "display_name": "Python 3 (ipykernel)",
   "language": "python",
   "name": "python3"
  },
  "language_info": {
   "codemirror_mode": {
    "name": "ipython",
    "version": 3
   },
   "file_extension": ".py",
   "mimetype": "text/x-python",
   "name": "python",
   "nbconvert_exporter": "python",
   "pygments_lexer": "ipython3",
   "version": "3.9.5"
  }
 },
 "nbformat": 4,
 "nbformat_minor": 5
}
